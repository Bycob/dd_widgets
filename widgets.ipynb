{
 "cells": [
  {
   "cell_type": "code",
   "execution_count": 12,
   "metadata": {},
   "outputs": [],
   "source": [
    "%run train.py\n"
   ]
  },
  {
   "cell_type": "code",
   "execution_count": 14,
   "metadata": {},
   "outputs": [
    {
     "data": {
      "text/plain": [
       "{'head': {'job': 1, 'method': '/train'},\n",
       " 'status': {'code': 404,\n",
       "  'dd_code': 1003,\n",
       "  'dd_msg': 'Job Not Found',\n",
       "  'msg': 'NotFound'}}"
      ]
     },
     "execution_count": 14,
     "metadata": {},
     "output_type": "execute_result"
    }
   ],
   "source": [
    "# interrogate about the job\n",
    "import requests\n",
    "job_nb = 1\n",
    "c = requests.get(f\"http://localhost:8400/train?service=tls_park&job={job_nb}&timeout=10\")\n",
    "c.json()"
   ]
  },
  {
   "cell_type": "code",
   "execution_count": 15,
   "metadata": {},
   "outputs": [
    {
     "data": {
      "application/vnd.jupyter.widget-view+json": {
       "model_id": "8cc6783cb61648b89047437ea93b5a64",
       "version_major": 2,
       "version_minor": 0
      },
      "text/plain": [
       "HBox(children=(VBox(children=(Button(description='Run', style=ButtonStyle()), Text(value='tls_park', descripti…"
      ]
     },
     "metadata": {},
     "output_type": "display_data"
    }
   ],
   "source": [
    "import logging\n",
    "logger = logging.getLogger()\n",
    "logger.setLevel(logging.INFO)\n",
    "\n",
    "s = Segmentation(\n",
    "    'tls_park', \n",
    "    training_repo='/data1/sat/dataset_tls_park_444/train.txt',\n",
    "    testing_repo='/data1/sat/dataset_tls_park_444/test.txt',\n",
    "    port=8400,\n",
    "    img_height=480,\n",
    "    img_width=480,\n",
    "    model_repo='/data1/sat/xolive/models/model_tls_park_debug',\n",
    "    nclasses=2,\n",
    "    template='deeplab_vgg16',\n",
    "    iterations=15000,\n",
    "    test_interval=500,\n",
    "    snapshot_interval=1000,\n",
    "    batch_size=5,\n",
    "    test_batch_size=1,\n",
    "    noise_prob=0.001,\n",
    "    class_weights=[0.1, 1.0],\n",
    "    model_postfix='test_park_xo3',\n",
    "    weights='/data1/segmentation/vgg16_init_deeplab.caffemodel',\n",
    "    tboard='/data1/tensorboard',\n",
    "    gpuid=2\n",
    ")#.run()\n",
    "s"
   ]
  },
  {
   "cell_type": "code",
   "execution_count": 15,
   "metadata": {},
   "outputs": [
    {
     "ename": "TypeError",
     "evalue": "__init__() got an unexpected keyword argument 'gpu_id'",
     "output_type": "error",
     "traceback": [
      "\u001b[0;31m---------------------------------------------------------------------------\u001b[0m",
      "\u001b[0;31mTypeError\u001b[0m                                 Traceback (most recent call last)",
      "\u001b[0;32m<ipython-input-15-d2ad6c669411>\u001b[0m in \u001b[0;36m<module>\u001b[0;34m()\u001b[0m\n\u001b[1;32m      6\u001b[0m         \u001b[0mlayers\u001b[0m\u001b[0;34m=\u001b[0m\u001b[0;34m'1CR32 1CR64 1CR128 1024'\u001b[0m\u001b[0;34m,\u001b[0m\u001b[0;34m\u001b[0m\u001b[0m\n\u001b[1;32m      7\u001b[0m         \u001b[0mtemplate\u001b[0m\u001b[0;34m=\u001b[0m\u001b[0;34m'convnet'\u001b[0m\u001b[0;34m,\u001b[0m\u001b[0;34m\u001b[0m\u001b[0m\n\u001b[0;32m----> 8\u001b[0;31m                \u001b[0mgpu_id\u001b[0m\u001b[0;34m=\u001b[0m\u001b[0;36m1\u001b[0m\u001b[0;34m\u001b[0m\u001b[0m\n\u001b[0m\u001b[1;32m      9\u001b[0m         )#.run()\n\u001b[1;32m     10\u001b[0m \u001b[0;31m# TODO unchanged data\u001b[0m\u001b[0;34m\u001b[0m\u001b[0;34m\u001b[0m\u001b[0m\n",
      "\u001b[0;31mTypeError\u001b[0m: __init__() got an unexpected keyword argument 'gpu_id'"
     ]
    }
   ],
   "source": [
    "Classification('xo_bbc_5_classes', \n",
    "        training_repo='/data1/xolive/bbc_sounds/sounds_dataset_1.0/train/',\n",
    "        testing_repo='/data1/xolive/bbc_sounds/sounds_dataset_1.0/test/',\n",
    "        port=8400,\n",
    "        model_repo='/data1/bbc_sounds/bbc_5_classes',\n",
    "        layers='1CR32 1CR64 1CR128 1024',\n",
    "        template='convnet',\n",
    "               gpuid=1\n",
    "        )#.run()\n",
    "# TODO unchanged data"
   ]
  },
  {
   "cell_type": "code",
   "execution_count": null,
   "metadata": {},
   "outputs": [],
   "source": []
  }
 ],
 "metadata": {
  "kernelspec": {
   "display_name": "Python 3",
   "language": "python",
   "name": "python3"
  },
  "language_info": {
   "codemirror_mode": {
    "name": "ipython",
    "version": 3
   },
   "file_extension": ".py",
   "mimetype": "text/x-python",
   "name": "python",
   "nbconvert_exporter": "python",
   "pygments_lexer": "ipython3",
   "version": "3.6.2"
  }
 },
 "nbformat": 4,
 "nbformat_minor": 2
}
