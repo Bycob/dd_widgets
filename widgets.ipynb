{
 "cells": [
  {
   "cell_type": "code",
   "execution_count": 17,
   "metadata": {},
   "outputs": [],
   "source": [
    "%run train.py"
   ]
  },
  {
   "cell_type": "code",
   "execution_count": 18,
   "metadata": {},
   "outputs": [
    {
     "data": {
      "application/vnd.jupyter.widget-view+json": {
       "model_id": "0c3bedcc45f94acb9dceef6d57c4a079",
       "version_major": 2,
       "version_minor": 0
      },
      "text/plain": [
       "HBox(children=(VBox(children=(HTML(value='<h2>Segmentation task: tls_park</h2>'), Button(description='Run', st…"
      ]
     },
     "metadata": {},
     "output_type": "display_data"
    }
   ],
   "source": [
    "    \n",
    "s = Segmentation(\n",
    "    'tls_park', \n",
    "    training_repo='/data1/sat/dataset_tls_park_444/train.txt',\n",
    "    testing_repo='/data1/sat/dataset_tls_park_444/test.txt',\n",
    "    host='10.10.77.61',\n",
    "    port=8500,\n",
    "    #port=8400,\n",
    "    img_height=480,\n",
    "    img_width=480,\n",
    "    model_repo='/data1/sat/xolive/models/model_tls_park_debug',\n",
    "    nclasses=2,\n",
    "    #template='deeplab_vgg16',\n",
    "    iterations=15000,\n",
    "    test_interval=500,\n",
    "    snapshot_interval=1000,\n",
    "    batch_size=5,\n",
    "    test_batch_size=1,\n",
    "    noise_prob=0.001,\n",
    "    class_weights=[0.1, 1.0],\n",
    "    model_postfix='test_park_xo3',\n",
    "    weights='/data1/segmentation/vgg16_init_deeplab.caffemodel',\n",
    "    gpuid=2\n",
    ")#.run()\n",
    "s"
   ]
  },
  {
   "cell_type": "code",
   "execution_count": 19,
   "metadata": {},
   "outputs": [
    {
     "data": {
      "application/vnd.jupyter.widget-view+json": {
       "model_id": "222ed3c1b19d441d911fd55957beac49",
       "version_major": 2,
       "version_minor": 0
      },
      "text/plain": [
       "HBox(children=(VBox(children=(HTML(value='<h2>Classification task: xo_bbc_5_classes</h2>'), Button(description…"
      ]
     },
     "metadata": {},
     "output_type": "display_data"
    }
   ],
   "source": [
    "c = Classification(\n",
    "    'xo_bbc_5_classes', \n",
    "        training_repo='/data1/xolive/bbc_sounds/sounds_dataset_1.0/train/',\n",
    "        testing_repo='/data1/xolive/bbc_sounds/sounds_dataset_1.0/test/',\n",
    "                   host='10.10.77.61',\n",
    "        port=8500,\n",
    "        model_repo='/data1/bbc_sounds/bbc_5_classes',\n",
    "        layers='[\"1CR32\", \"1CR64\", \"1CR128\", \"1024\"]',\n",
    "        template='convnet',\n",
    "        gpuid=1,\n",
    "                   img_width=257,\n",
    "                   img_height=257\n",
    "        )#.run()\n",
    "c\n",
    "# TODO unchanged data"
   ]
  },
  {
   "cell_type": "code",
   "execution_count": 20,
   "metadata": {},
   "outputs": [
    {
     "data": {
      "application/vnd.jupyter.widget-view+json": {
       "model_id": "0268da1643af438da7e2bda05e068989",
       "version_major": 2,
       "version_minor": 0
      },
      "text/plain": [
       "HBox(children=(VBox(children=(HTML(value='<h2>Classification task: kaggle</h2>'), Button(description='Run', st…"
      ]
     },
     "metadata": {},
     "output_type": "display_data"
    }
   ],
   "source": [
    "c = Classification('kaggle', \n",
    "                    training_repo='/data1/kaggle/dogs_cats/train/',\n",
    "                   tsplit=.2,\n",
    "                    host='10.10.77.61',\n",
    "                    port=8500,\n",
    "                    model_repo='/data1/xolive/models/kaggle',\n",
    "                    template='convnet',\n",
    "                    gpuid=1,\n",
    "                   layers=['1CR32','1CR64','1CR128','1024'],\n",
    "                   img_width=150,\n",
    "                   img_height=150,\n",
    "                   mirror=True,\n",
    "                   rotate=True,\n",
    "        )#.run()\n",
    "c\n",
    "# TODO unchanged data"
   ]
  },
  {
   "cell_type": "code",
   "execution_count": null,
   "metadata": {},
   "outputs": [],
   "source": [
    "class Detection(MLWidget):\n",
    "    def __init__(\n",
    "        self,\n",
    "        sname: str,\n",
    "        *args,  # unnamed parameters are forbidden\n",
    "        training_repo: Path = None,\n",
    "        testing_repo: Path = None,\n",
    "        host: str = \"localhost\",\n",
    "        port: int = 1234,\n",
    "        nclasses: int = -1,\n",
    "        model_repo: Optional[str] = None,\n",
    "        img_width: Optional[int] = None,\n",
    "        img_height: Optional[int] = None,\n",
    "        base_lr: float = 1e-4,\n",
    "        iterations: int = 10000,\n",
    "        snapshot_interval: int = 5000,\n",
    "        test_interval: int = 1000,\n",
    "        gpuid: int = 0,\n",
    "        layers: List[str] = [],\n",
    "        template: Optional[str] = None,\n",
    "        mirror: bool = False,\n",
    "        rotate: bool = False,\n",
    "        tsplit: float = 0.0,\n",
    "        finetune: bool = False,\n",
    "        resume: bool = False,\n",
    "        bw: bool = False,\n",
    "        crop_size: int = -1,\n",
    "        batch_size: int = 32,\n",
    "        test_batch_size: int = 16,\n",
    "        iter_size: int = 1,\n",
    "        solver_type: str = \"SGD\",\n",
    "        noise_prob: float = 0.0,\n",
    "        distort_prob: float = 0.0,\n",
    "        test_init: bool = False,\n",
    "        class_weights: List[float] = [],\n",
    "        weights: Path = None,\n",
    "        tboard: Optional[Path] = None,\n",
    "        ignore_label: int = -1,\n",
    "        multi_label: bool = False,\n",
    "        regression: bool = False,\n",
    "        rand_skip: int = 0,\n",
    "        ctc: bool = False,\n",
    "        timesteps: int = 32,\n",
    "        unchanged_data: bool = False,\n",
    "    ) -> None:\n",
    "\n",
    "        local_vars = locals()\n",
    "        params = {\n",
    "            # no access to eval(k) inside the comprehension\n",
    "            k: (eval(k, local_vars), v)\n",
    "            for k, v in get_type_hints(self.__init__).items()\n",
    "            if k not in [\"return\", \"sname\"]\n",
    "        }\n",
    "        \n",
    "        super().__init__(sname, params)"
   ]
  },
  {
   "cell_type": "code",
   "execution_count": null,
   "metadata": {},
   "outputs": [],
   "source": []
  },
  {
   "cell_type": "code",
   "execution_count": null,
   "metadata": {},
   "outputs": [],
   "source": []
  }
 ],
 "metadata": {
  "kernelspec": {
   "display_name": "Python 3",
   "language": "python",
   "name": "python3"
  },
  "language_info": {
   "codemirror_mode": {
    "name": "ipython",
    "version": 3
   },
   "file_extension": ".py",
   "mimetype": "text/x-python",
   "name": "python",
   "nbconvert_exporter": "python",
   "pygments_lexer": "ipython3",
   "version": "3.6.2"
  }
 },
 "nbformat": 4,
 "nbformat_minor": 2
}
