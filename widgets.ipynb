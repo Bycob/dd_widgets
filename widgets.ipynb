{
 "cells": [
  {
   "cell_type": "code",
   "execution_count": 18,
   "metadata": {},
   "outputs": [],
   "source": [
    "%run train.py"
   ]
  },
  {
   "cell_type": "code",
   "execution_count": 19,
   "metadata": {},
   "outputs": [],
   "source": [
    "import logging\n",
    "logger = logging.getLogger()\n",
    "logger.setLevel(logging.INFO)\n",
    "\n",
    "fmt = '%(asctime)s:%(msecs)d - %(levelname)s'\n",
    "fmt += ' - {%(filename)s:%(lineno)d} %(message)s'\n",
    "\n",
    "logging.basicConfig(level=logging.DEBUG,\n",
    "                    format=fmt,\n",
    "                    datefmt='%m-%d %H:%M:%S',\n",
    "                    filename='widgets.log',\n",
    "                    filemode='w')\n",
    "logging.info(\"Creating widgets.log file\")"
   ]
  },
  {
   "cell_type": "code",
   "execution_count": 20,
   "metadata": {},
   "outputs": [
    {
     "data": {
      "application/vnd.jupyter.widget-view+json": {
       "model_id": "561f1d5d627a491bbb90507092abc3db",
       "version_major": 2,
       "version_minor": 0
      },
      "text/plain": [
       "HBox(children=(VBox(children=(Button(description='Run', style=ButtonStyle()), Button(description='Info', style…"
      ]
     },
     "metadata": {},
     "output_type": "display_data"
    }
   ],
   "source": [
    "    \n",
    "s = Segmentation(\n",
    "    'tls_park', \n",
    "    training_repo='/data1/sat/dataset_tls_park_444/train.txt',\n",
    "    testing_repo='/data1/sat/dataset_tls_park_444/test.txt',\n",
    "    host='10.10.77.61',\n",
    "    port=8500,\n",
    "    #port=8400,\n",
    "    img_height=480,\n",
    "    img_width=480,\n",
    "    model_repo='/data1/sat/xolive/models/model_tls_park_debug',\n",
    "    nclasses=2,\n",
    "    #template='deeplab_vgg16',\n",
    "    iterations=15000,\n",
    "    test_interval=500,\n",
    "    snapshot_interval=1000,\n",
    "    batch_size=5,\n",
    "    test_batch_size=1,\n",
    "    noise_prob=0.001,\n",
    "    class_weights=[0.1, 1.0],\n",
    "    model_postfix='test_park_xo3',\n",
    "    weights='/data1/segmentation/vgg16_init_deeplab.caffemodel',\n",
    "    gpuid=2\n",
    ")#.run()\n",
    "s"
   ]
  },
  {
   "cell_type": "code",
   "execution_count": 21,
   "metadata": {},
   "outputs": [
    {
     "data": {
      "application/vnd.jupyter.widget-view+json": {
       "model_id": "44b42f619cec4293a44dc4cde30a98e2",
       "version_major": 2,
       "version_minor": 0
      },
      "text/plain": [
       "HBox(children=(VBox(children=(Button(description='Run', style=ButtonStyle()), Button(description='Info', style…"
      ]
     },
     "metadata": {},
     "output_type": "display_data"
    }
   ],
   "source": [
    "c = Classification('xo_bbc_5_classes', \n",
    "        training_repo='/data1/xolive/bbc_sounds/sounds_dataset_1.0/train/',\n",
    "        testing_repo='/data1/xolive/bbc_sounds/sounds_dataset_1.0/test/',\n",
    "                   host='10.10.77.61',\n",
    "        port=8500,\n",
    "        model_repo='/data1/bbc_sounds/bbc_5_classes',\n",
    "        layers='[\"1CR32\", \"1CR64\", \"1CR128\", \"1024\"]',\n",
    "        template='convnet',\n",
    "        gpuid=1,\n",
    "                   img_width=257,\n",
    "                   img_height=257\n",
    "        )#.run()\n",
    "c\n",
    "# TODO unchanged data"
   ]
  },
  {
   "cell_type": "code",
   "execution_count": 22,
   "metadata": {},
   "outputs": [
    {
     "data": {
      "application/vnd.jupyter.widget-view+json": {
       "model_id": "40dd383b47a54160b149de4d3e3f4508",
       "version_major": 2,
       "version_minor": 0
      },
      "text/plain": [
       "HBox(children=(VBox(children=(Button(description='Run', style=ButtonStyle()), Button(description='Info', style…"
      ]
     },
     "metadata": {},
     "output_type": "display_data"
    }
   ],
   "source": [
    "c = Classification('kaggle', \n",
    "                    training_repo='/data1/kaggle/dogs_cats/train/',\n",
    "                    #testing_repo='/data1/xolive/bbc_sounds/sounds_dataset_1.0/test/',\n",
    "                    host='10.10.77.61',\n",
    "                    port=8500,\n",
    "                    model_repo='/data1/xolive/models/kaggle',\n",
    "                    template='convnet',\n",
    "                    gpuid=1,\n",
    "                   layers=['1CR32','1CR64','1CR128','1024'],\n",
    "                   img_width=150,\n",
    "                   img_height=150,\n",
    "                   mirror=True,\n",
    "                   rotate=True,\n",
    "                   tsplit=0.2\n",
    "                   \n",
    "        )#.run()\n",
    "c\n",
    "# TODO unchanged data"
   ]
  },
  {
   "cell_type": "code",
   "execution_count": 25,
   "metadata": {},
   "outputs": [
    {
     "name": "stdout",
     "output_type": "stream",
     "text": [
      "{\n",
      "  \"status\": {\n",
      "    \"code\": 200,\n",
      "    \"msg\": \"OK\"\n",
      "  }\n",
      "}\n"
     ]
    }
   ],
   "source": [
    "print(json.dumps(c.json(), indent=2))"
   ]
  },
  {
   "cell_type": "code",
   "execution_count": null,
   "metadata": {},
   "outputs": [],
   "source": []
  }
 ],
 "metadata": {
  "kernelspec": {
   "display_name": "Python 3",
   "language": "python",
   "name": "python3"
  },
  "language_info": {
   "codemirror_mode": {
    "name": "ipython",
    "version": 3
   },
   "file_extension": ".py",
   "mimetype": "text/x-python",
   "name": "python",
   "nbconvert_exporter": "python",
   "pygments_lexer": "ipython3",
   "version": "3.6.2"
  }
 },
 "nbformat": 4,
 "nbformat_minor": 2
}
