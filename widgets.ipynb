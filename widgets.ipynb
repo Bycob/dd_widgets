{
 "cells": [
  {
   "cell_type": "code",
   "execution_count": 1,
   "metadata": {},
   "outputs": [],
   "source": [
    "%run widgets.py"
   ]
  },
  {
   "cell_type": "code",
   "execution_count": 8,
   "metadata": {},
   "outputs": [
    {
     "data": {
      "application/vnd.jupyter.widget-view+json": {
       "model_id": "a32a356ebf9b4c1e8355c1a3f64118a1",
       "version_major": 2,
       "version_minor": 0
      },
      "text/plain": [
       "HBox(children=(VBox(children=(HTML(value='<h2>Segmentation task: tls_park</h2>'), Button(description='Run', st…"
      ]
     },
     "metadata": {},
     "output_type": "display_data"
    }
   ],
   "source": [
    "    \n",
    "s = Segmentation(\n",
    "    'tls_park', \n",
    "    training_repo='/data1/sat/dataset_tls_park_444/train.txt',\n",
    "    testing_repo='/data1/sat/dataset_tls_park_444/test.txt',\n",
    "    host='10.10.77.61',\n",
    "    port=8500,\n",
    "    #port=8400,\n",
    "    img_height=480,\n",
    "    img_width=480,\n",
    "    model_repo='/data1/sat/xolive/models/model_tls_park_debug',\n",
    "    nclasses=2,\n",
    "    #template='deeplab_vgg16',\n",
    "    iterations=15000,\n",
    "    test_interval=500,\n",
    "    snapshot_interval=1000,\n",
    "    batch_size=5,\n",
    "    test_batch_size=1,\n",
    "    noise_prob=0.001,\n",
    "    class_weights=[0.1, 1.0],\n",
    "    model_postfix='test_park_xo3',\n",
    "    weights='/data1/segmentation/vgg16_init_deeplab.caffemodel',\n",
    "    gpuid=2\n",
    ")#.run()\n",
    "s"
   ]
  },
  {
   "cell_type": "code",
   "execution_count": 9,
   "metadata": {},
   "outputs": [
    {
     "data": {
      "application/vnd.jupyter.widget-view+json": {
       "model_id": "07988816852f4475b051a4cb4867d5d0",
       "version_major": 2,
       "version_minor": 0
      },
      "text/plain": [
       "HBox(children=(VBox(children=(HTML(value='<h2>Classification task: xo_bbc_5_classes</h2>'), Button(description…"
      ]
     },
     "metadata": {},
     "output_type": "display_data"
    }
   ],
   "source": [
    "c = Classification(\n",
    "    'xo_bbc_5_classes', \n",
    "        training_repo='/data1/xolive/bbc_sounds/sounds_dataset_1.0/train/',\n",
    "        testing_repo='/data1/xolive/bbc_sounds/sounds_dataset_1.0/test/',\n",
    "                   host='10.10.77.61',\n",
    "        port=8500,\n",
    "        model_repo='/data1/bbc_sounds/bbc_5_classes',\n",
    "        layers='[\"1CR32\", \"1CR64\", \"1CR128\", \"1024\"]',\n",
    "        template='convnet',\n",
    "        gpuid=1,\n",
    "                   img_width=257,\n",
    "                   img_height=257\n",
    "        )#.run()\n",
    "c\n",
    "# TODO unchanged data"
   ]
  },
  {
   "cell_type": "code",
   "execution_count": 2,
   "metadata": {},
   "outputs": [
    {
     "data": {
      "application/vnd.jupyter.widget-view+json": {
       "model_id": "9040d61afb2e4925871029b10bfb8f0f",
       "version_major": 2,
       "version_minor": 0
      },
      "text/plain": [
       "HBox(children=(VBox(children=(HTML(value='<h2>Classification task: kaggle</h2>'), Button(description='Run', st…"
      ]
     },
     "metadata": {},
     "output_type": "display_data"
    }
   ],
   "source": [
    "c = Classification('kaggle', \n",
    "                    training_repo='/data1/kaggle/dogs_cats/train/',\n",
    "                   tsplit=.2,\n",
    "                    host='10.10.77.61',\n",
    "                    port=8500,\n",
    "                    model_repo='/data1/xolive/models/kaggle',\n",
    "                    template='convnet',\n",
    "                    gpuid=1,\n",
    "                   layers=['1CR32','1CR64','1CR128','1024'],\n",
    "                   img_width=150,\n",
    "                   img_height=150,\n",
    "                   mirror=True,\n",
    "                   rotate=True,\n",
    "        )#.run()\n",
    "c\n",
    "# TODO unchanged data"
   ]
  },
  {
   "cell_type": "code",
   "execution_count": 60,
   "metadata": {},
   "outputs": [
    {
     "data": {
      "application/vnd.jupyter.widget-view+json": {
       "model_id": "ab01b09b75df494f9089b28240404707",
       "version_major": 2,
       "version_minor": 0
      },
      "text/plain": [
       "HBox(children=(VBox(children=(HTML(value='<h2>Detection task: eoliennes</h2>'), Button(description='Run', styl…"
      ]
     },
     "metadata": {},
     "output_type": "display_data"
    }
   ],
   "source": [
    "d = Detection(\n",
    "    \"eoliennes\",\n",
    "    training_repo= \"/data1/sat/dataset_windturbine_europe_16_test/train.txt\",\n",
    "    testing_repo= \"/data1/sat/dataset_windturbine_europe_16_test/test.txt\",\n",
    "    host='10.10.77.61',\n",
    "    port=8500,\n",
    "    model_repo='/data1/xolive/models/detection',\n",
    "    gpuid=0,\n",
    "    img_width=300,\n",
    "    img_height=300,\n",
    "    snapshot_interval=1000,\n",
    "    iterations=5000,\n",
    "    template=\"ssd_300\",\n",
    "    mirror=True,\n",
    "    rotate=True, # no default\n",
    "    finetune=True,\n",
    "    weights=\"/data1/detection/VGG_ILSVRC_16_layers_fc_reduced.caffemodel\",\n",
    "    batch_size=24,\n",
    "    test_batch_size=4,\n",
    "    nclasses=2,\n",
    ")\n",
    "d"
   ]
  },
  {
   "cell_type": "code",
   "execution_count": 7,
   "metadata": {},
   "outputs": [],
   "source": [
    "%run widgets.py"
   ]
  },
  {
   "cell_type": "code",
   "execution_count": 9,
   "metadata": {},
   "outputs": [
    {
     "data": {
      "application/vnd.jupyter.widget-view+json": {
       "model_id": "5cd700d9f1e74a24a4f6a88e27d7228c",
       "version_major": 2,
       "version_minor": 0
      },
      "text/plain": [
       "HBox(children=(VBox(children=(HTML(value='<h2>CSV task: forest</h2>'), HBox(children=(Button(description='Run'…"
      ]
     },
     "metadata": {},
     "output_type": "display_data"
    }
   ],
   "source": [
    "c = CSV('forest',\n",
    "        host='10.10.77.61',\n",
    "        port=8500,\n",
    "        training_repo=\"/data1/xolive/forest_type/train.csv\",\n",
    "        model_repo=\"/data1/xolive/models/forest\",\n",
    "        csv_label='Cover_Type',\n",
    "        csv_id='Id',\n",
    "        iterations=10000,\n",
    "        )\n",
    "c"
   ]
  },
  {
   "cell_type": "code",
   "execution_count": 3,
   "metadata": {},
   "outputs": [
    {
     "data": {
      "text/plain": [
       "({'name': 'stdout',\n",
       "  'output_type': 'stream',\n",
       "  'text': '\\x1b[30mGetting info for service forest: {\\n  \"head\": {\\n    \"job\": 1,\\n    \"method\": \"/train\"\\n  },\\n  \"status\": {\\n    \"msg\": \"NotFound\",\\n    \"dd_msg\": \"Job Not Found\",\\n    \"dd_code\": 1003,\\n    \"code\": 404\\n  }\\n}\\n'},\n",
       " {'name': 'stdout',\n",
       "  'output_type': 'stream',\n",
       "  'text': '\\x1b[30m\"GET /train?service=forest&job=1&timeout=10 HTTP/1.1\" 404 113\\n'},\n",
       " {'name': 'stdout',\n",
       "  'output_type': 'stream',\n",
       "  'text': '\\x1b[30mStarting new HTTP connection (1): 10.10.77.61\\n'})"
      ]
     },
     "execution_count": 3,
     "metadata": {},
     "output_type": "execute_result"
    }
   ],
   "source": [
    "c.output.outputs"
   ]
  },
  {
   "cell_type": "code",
   "execution_count": 9,
   "metadata": {},
   "outputs": [],
   "source": [
    "c.output.clear_output()\n"
   ]
  },
  {
   "cell_type": "code",
   "execution_count": 10,
   "metadata": {},
   "outputs": [
    {
     "data": {
      "text/plain": [
       "({'name': 'stdout',\n",
       "  'output_type': 'stream',\n",
       "  'text': '\\x1b[30mGetting info for service forest: {\\n  \"head\": {\\n    \"method\": \"/train\",\\n    \"job\": 1\\n  },\\n  \"status\": {\\n    \"msg\": \"NotFound\",\\n    \"code\": 404,\\n    \"dd_code\": 1003,\\n    \"dd_msg\": \"Job Not Found\"\\n  }\\n}\\n'},\n",
       " {'name': 'stdout',\n",
       "  'output_type': 'stream',\n",
       "  'text': '\\x1b[30m\"GET /train?service=forest&job=1&timeout=10 HTTP/1.1\" 404 113\\n'},\n",
       " {'name': 'stdout',\n",
       "  'output_type': 'stream',\n",
       "  'text': '\\x1b[30mStarting new HTTP connection (1): 10.10.77.61\\n'})"
      ]
     },
     "execution_count": 10,
     "metadata": {},
     "output_type": "execute_result"
    }
   ],
   "source": [
    "c.output.outputs"
   ]
  },
  {
   "cell_type": "code",
   "execution_count": 13,
   "metadata": {},
   "outputs": [
    {
     "data": {
      "text/plain": [
       "\u001b[0;31mType:\u001b[0m        tuple\n",
       "\u001b[0;31mString form:\u001b[0m ({'text': '\\x1b[30mGetting info for service forest: {\\n  \"head\": {\\n    \"method\": \"/train\",\\n     <...> [30mStarting new HTTP connection (1): 10.10.77.61\\n', 'name': 'stdout', 'output_type': 'stream'})\n",
       "\u001b[0;31mLength:\u001b[0m      3\n",
       "\u001b[0;31mDocstring:\u001b[0m  \n",
       "tuple() -> empty tuple\n",
       "tuple(iterable) -> tuple initialized from iterable's items\n",
       "\n",
       "If the argument is a tuple, the return value is the same object.\n"
      ]
     },
     "metadata": {},
     "output_type": "display_data"
    }
   ],
   "source": [
    "c.output.outputs?"
   ]
  },
  {
   "cell_type": "code",
   "execution_count": null,
   "metadata": {},
   "outputs": [],
   "source": []
  }
 ],
 "metadata": {
  "kernelspec": {
   "display_name": "Python 3.5 (system)",
   "language": "python",
   "name": "python3.5"
  },
  "language_info": {
   "codemirror_mode": {
    "name": "ipython",
    "version": 3
   },
   "file_extension": ".py",
   "mimetype": "text/x-python",
   "name": "python",
   "nbconvert_exporter": "python",
   "pygments_lexer": "ipython3",
   "version": "3.5.2"
  }
 },
 "nbformat": 4,
 "nbformat_minor": 2
}
