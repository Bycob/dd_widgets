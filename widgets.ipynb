{
 "cells": [
  {
   "cell_type": "code",
   "execution_count": 2,
   "metadata": {},
   "outputs": [],
   "source": [
    "%run train.py"
   ]
  },
  {
   "cell_type": "code",
   "execution_count": 3,
   "metadata": {},
   "outputs": [
    {
     "data": {
      "application/vnd.jupyter.widget-view+json": {
       "model_id": "b55c646190ae49b7b8407f17fb206f44",
       "version_major": 2,
       "version_minor": 0
      },
      "text/plain": [
       "HBox(children=(VBox(children=(Text(value='tls_park', description='Model name'), Text(value='/data1/sat/dataset…"
      ]
     },
     "metadata": {},
     "output_type": "display_data"
    }
   ],
   "source": [
    "Segmentation('tls_park', \n",
    "        training_repo='/data1/sat/dataset_tls_park_444/train.txt',\n",
    "        testing_repo='/data1/sat/dataset_tls_park_444/test.txt',\n",
    "        port=8400,\n",
    "        model_repo='/data1/tls_park',\n",
    "        #layers='1CR32 1CR64 1CR128 1024',\n",
    "        #template='convnet'\n",
    "        )#.run()\n",
    "# TODO unchanged data"
   ]
  },
  {
   "cell_type": "code",
   "execution_count": 4,
   "metadata": {},
   "outputs": [
    {
     "data": {
      "application/vnd.jupyter.widget-view+json": {
       "model_id": "0d2971ab47c64fe791264ad4a01c4851",
       "version_major": 2,
       "version_minor": 0
      },
      "text/plain": [
       "HBox(children=(VBox(children=(Text(value='xo_bbc_5_classes', description='Model name'), Text(value='/data1/xol…"
      ]
     },
     "metadata": {},
     "output_type": "display_data"
    }
   ],
   "source": [
    "Classification('xo_bbc_5_classes', \n",
    "        training_repo='/data1/xolive/bbc_sounds/sounds_dataset_1.0/train/',\n",
    "        testing_repo='/data1/xolive/bbc_sounds/sounds_dataset_1.0/test/',\n",
    "        port=8400,\n",
    "        model_repo='/data1/bbc_sounds/bbc_5_classes',\n",
    "        layers='1CR32 1CR64 1CR128 1024',\n",
    "        template='convnet'\n",
    "        )#.run()\n",
    "# TODO unchanged data"
   ]
  },
  {
   "cell_type": "code",
   "execution_count": null,
   "metadata": {},
   "outputs": [],
   "source": []
  }
 ],
 "metadata": {
  "kernelspec": {
   "display_name": "Python 3",
   "language": "python",
   "name": "python3"
  },
  "language_info": {
   "codemirror_mode": {
    "name": "ipython",
    "version": 3
   },
   "file_extension": ".py",
   "mimetype": "text/x-python",
   "name": "python",
   "nbconvert_exporter": "python",
   "pygments_lexer": "ipython3",
   "version": "3.6.2"
  }
 },
 "nbformat": 4,
 "nbformat_minor": 2
}
