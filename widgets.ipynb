{
 "cells": [
  {
   "cell_type": "code",
   "execution_count": 1,
   "metadata": {},
   "outputs": [],
   "source": [
    "%run widgets.py"
   ]
  },
  {
   "cell_type": "code",
   "execution_count": 6,
   "metadata": {},
   "outputs": [
    {
     "data": {
      "application/vnd.jupyter.widget-view+json": {
       "model_id": "3312835508c54ee8a9aab08b60679334",
       "version_major": 2,
       "version_minor": 0
      },
      "text/plain": [
       "HBox(children=(VBox(children=(HTML(value='<h2>Segmentation task: tls_park</h2>'), HBox(children=(Button(descri…"
      ]
     },
     "metadata": {},
     "output_type": "display_data"
    }
   ],
   "source": [
    "s = Segmentation(\n",
    "    'tls_park', \n",
    "    training_repo='/data1/sat/dataset_tls_park_444/train.txt',\n",
    "    testing_repo='/data1/sat/dataset_tls_park_444/test.txt',\n",
    "    host='10.10.77.61',\n",
    "    port=8500,\n",
    "    #port=8400,\n",
    "    img_height=480,\n",
    "    img_width=480,\n",
    "    model_repo='/data1/sat/xolive/models/model_tls_park_debug',\n",
    "    nclasses=2,\n",
    "    #template='deeplab_vgg16',\n",
    "    iterations=15000,\n",
    "    test_interval=500,\n",
    "    snapshot_interval=1000,\n",
    "    batch_size=5,\n",
    "    test_batch_size=1,\n",
    "    noise_prob=0.001,\n",
    "    class_weights=[0.1, 1.0],\n",
    "    model_postfix='test_park_xo3',\n",
    "    weights='/data1/segmentation/vgg16_init_deeplab.caffemodel',\n",
    "    gpuid=2\n",
    ")#.run()\n",
    "s"
   ]
  },
  {
   "cell_type": "code",
   "execution_count": 7,
   "metadata": {},
   "outputs": [
    {
     "data": {
      "application/vnd.jupyter.widget-view+json": {
       "model_id": "8c8db7e2e2fb436ca82023421d7519de",
       "version_major": 2,
       "version_minor": 0
      },
      "text/plain": [
       "HBox(children=(VBox(children=(HTML(value='<h2>Classification task: xo_bbc_5_classes</h2>'), HBox(children=(But…"
      ]
     },
     "metadata": {},
     "output_type": "display_data"
    }
   ],
   "source": [
    "c = Classification(\n",
    "    'xo_bbc_5_classes', \n",
    "    training_repo='/data1/xolive/bbc_sounds/sounds_dataset_1.0/train/',\n",
    "    testing_repo='/data1/xolive/bbc_sounds/sounds_dataset_1.0/test/',\n",
    "    host='10.10.77.61',\n",
    "    port=8500,\n",
    "    model_repo='/data1/bbc_sounds/bbc_5_classes',\n",
    "    layers='[\"1CR32\", \"1CR64\", \"1CR128\", \"1024\"]',\n",
    "    template='convnet',\n",
    "    gpuid=1,\n",
    "    img_width=257,\n",
    "    img_height=257\n",
    ")\n",
    "c\n",
    "# TODO unchanged data"
   ]
  },
  {
   "cell_type": "code",
   "execution_count": 4,
   "metadata": {},
   "outputs": [
    {
     "data": {
      "application/vnd.jupyter.widget-view+json": {
       "model_id": "0c9503bc68f94b8daa4c19020f7022e9",
       "version_major": 2,
       "version_minor": 0
      },
      "text/plain": [
       "HBox(children=(VBox(children=(HTML(value='<h2>Classification task: dogs_cats</h2>'), HBox(children=(Button(des…"
      ]
     },
     "metadata": {},
     "output_type": "display_data"
    }
   ],
   "source": [
    "c = Classification(\n",
    "    'dogs_cats', \n",
    "    training_repo='/data1/kaggle/dogs_cats/train/',\n",
    "    tsplit=.2,\n",
    "    host='10.10.77.61',\n",
    "    port=8500,\n",
    "    model_repo='/data1/xolive/models/dogs_cats',\n",
    "    template='convnet',\n",
    "    gpuid=0,\n",
    "    layers=['1CR32','1CR64','1CR128','1024'],\n",
    "    img_width=150,\n",
    "    img_height=150,\n",
    "    mirror=True,\n",
    "    rotate=True,\n",
    ")\n",
    "c\n",
    "# TODO unchanged data"
   ]
  },
  {
   "cell_type": "code",
   "execution_count": 30,
   "metadata": {},
   "outputs": [
    {
     "data": {
      "application/vnd.jupyter.widget-view+json": {
       "model_id": "0525a45b2f9147b99fb99b1b4e5eaa53",
       "version_major": 2,
       "version_minor": 0
      },
      "text/plain": [
       "HBox(children=(VBox(children=(HTML(value='<h2>Detection task: eoliennes</h2>'), HBox(children=(Button(descript…"
      ]
     },
     "metadata": {},
     "output_type": "display_data"
    }
   ],
   "source": [
    "d = Detection(\n",
    "    \"eoliennes\",\n",
    "    training_repo= \"/data1/sat/dataset_windturbine_europe_16_test/train.txt\",\n",
    "    testing_repo= \"/data1/sat/dataset_windturbine_europe_16_test/test.txt\",\n",
    "    host='10.10.77.61',\n",
    "    port=8500,\n",
    "    model_repo='/data1/xolive/models/detection',\n",
    "    gpuid=0,\n",
    "    img_width=300,\n",
    "    img_height=300,\n",
    "    snapshot_interval=1000,\n",
    "    iterations=5000,\n",
    "    template=\"ssd_300\",\n",
    "    mirror=True,\n",
    "    rotate=True, # no default\n",
    "    finetune=True,\n",
    "    weights=\"/data1/detection/VGG_ILSVRC_16_layers_fc_reduced.caffemodel\",\n",
    "    batch_size=24,\n",
    "    test_batch_size=4,\n",
    "    nclasses=2,\n",
    ")\n",
    "d"
   ]
  },
  {
   "cell_type": "code",
   "execution_count": 31,
   "metadata": {},
   "outputs": [
    {
     "data": {
      "application/vnd.jupyter.widget-view+json": {
       "model_id": "db2b022e927c4b48af4ab48b2b31eb61",
       "version_major": 2,
       "version_minor": 0
      },
      "text/plain": [
       "HBox(children=(VBox(children=(HTML(value='<h2>CSV task: forest</h2>'), HBox(children=(Button(description='Run'…"
      ]
     },
     "metadata": {},
     "output_type": "display_data"
    }
   ],
   "source": [
    "c = CSV(\n",
    "    'forest',\n",
    "    host='10.10.77.61',\n",
    "    port=8500,\n",
    "    training_repo=\"/data1/xolive/forest_type/train.csv\",\n",
    "    model_repo=\"/data1/xolive/models/forest\",\n",
    "    csv_label='Cover_Type',\n",
    "    csv_id='Id',\n",
    "    iterations=10000,\n",
    ")\n",
    "c"
   ]
  },
  {
   "cell_type": "code",
   "execution_count": 32,
   "metadata": {},
   "outputs": [
    {
     "data": {
      "application/vnd.jupyter.widget-view+json": {
       "model_id": "62df4772aca64ebeb6b15bb95afbce9e",
       "version_major": 2,
       "version_minor": 0
      },
      "text/plain": [
       "HBox(children=(VBox(children=(HTML(value='<h2>Text task: news</h2>'), HBox(children=(Button(description='Run',…"
      ]
     },
     "metadata": {},
     "output_type": "display_data"
    }
   ],
   "source": [
    "t = Text(\n",
    "    'news',         \n",
    "    training_repo = '/data1/xolive/news/news20',\n",
    "    testing_repo=None,\n",
    "    host='10.10.77.61',\n",
    "    port=8500,\n",
    "    model_repo=\"/data1/xolive/models/news\",\n",
    "    nclasses=20,\n",
    "    gpuid=1\n",
    ")\n",
    "t"
   ]
  },
  {
   "cell_type": "code",
   "execution_count": 2,
   "metadata": {},
   "outputs": [],
   "source": [
    "class OCR(MLWidget, ImageTrainerMixin):\n",
    "    \n",
    "    ctc = True\n",
    "\n",
    "    def update_train_file_list(self, *args):\n",
    "        with self.output:\n",
    "            # print (Path(self.training_repo.value).read_text().split('\\n'))\n",
    "            self.file_dict = {\n",
    "                Path(x.split()[0]): x.split()[1:]\n",
    "                for x in Path(self.training_repo.value).read_text().split(\"\\n\")\n",
    "                if len(x.split()) >= 2\n",
    "            }\n",
    "\n",
    "            self.file_list.options = [\n",
    "                fh.as_posix()\n",
    "                for fh in sample_from_iterable(self.file_dict.keys(), 10)\n",
    "            ]\n",
    "\n",
    "    def update_test_file_list(self, *args):\n",
    "        with self.output:\n",
    "            # print (Path(self.training_repo.value).read_text().split('\\n'))\n",
    "            self.file_dict = {\n",
    "                Path(x.split()[0]): x.split()[1:]\n",
    "                for x in Path(self.testing_repo.value).read_text().split(\"\\n\")\n",
    "                if len(x.split()) >= 2\n",
    "            }\n",
    "\n",
    "            self.file_list.options = [\n",
    "                fh.as_posix()\n",
    "                for fh in sample_from_iterable(self.file_dict.keys(), 10)\n",
    "            ]\n",
    "            \n",
    "    def display_img(self, args):\n",
    "        self.output.clear_output()\n",
    "        with self.output:\n",
    "            for path in args[\"new\"]:\n",
    "                shape, img = img_handle(Path(path))\n",
    "                if self.img_width.value == \"\":\n",
    "                    self.img_width.value = str(shape[0])\n",
    "                if self.img_height.value == \"\":\n",
    "                    self.img_height.value = str(shape[1])\n",
    "                display(\n",
    "                    img\n",
    "                )  # TODO display next to each other with shape info as well\n",
    "                print(\" \".join(o.file_dict[Path(path)]))\n",
    "\n",
    "    def __init__(\n",
    "        self,\n",
    "        sname: str,\n",
    "        *,  # unnamed parameters are forbidden\n",
    "        training_repo: Path = None,\n",
    "        testing_repo: Path = None,\n",
    "        host: str = \"localhost\",\n",
    "        port: int = 1234,\n",
    "        path: str = \"\",\n",
    "        nclasses: int = -1,\n",
    "        description: str = \"OCR service\",\n",
    "        model_repo: Optional[str] = None,\n",
    "        img_width: Optional[int] = None,\n",
    "        img_height: Optional[int] = None,\n",
    "        base_lr: float = 1e-4,\n",
    "        iterations: int = 10000,\n",
    "        snapshot_interval: int = 5000,\n",
    "        test_interval: int = 1000,\n",
    "        gpuid: int = 0,\n",
    "        layers: List[str] = [],\n",
    "        template: Optional[str] = None,\n",
    "        mirror: bool = False,\n",
    "        rotate: bool = False,\n",
    "        tsplit: float = 0.0,\n",
    "        finetune: bool = False,\n",
    "        resume: bool = False,\n",
    "        bw: bool = False,\n",
    "        crop_size: int = -1,\n",
    "        batch_size: int = 32,\n",
    "        test_batch_size: int = 16,\n",
    "        iter_size: int = 1,\n",
    "        solver_type: Solver = \"SGD\",\n",
    "        noise_prob: float = 0.0,\n",
    "        distort_prob: float = 0.0,\n",
    "        test_init: bool = False,\n",
    "        class_weights: List[float] = [],\n",
    "        weights: Path = None,\n",
    "        tboard: Optional[Path] = None,\n",
    "        ignore_label: int = -1,\n",
    "        multi_label: bool = False,\n",
    "        regression: bool = False,\n",
    "        rand_skip: int = 0,\n",
    "        timesteps: int = 32,\n",
    "        unchanged_data: bool = False,\n",
    "        target_repository: str = \"\"\n",
    "    ) -> None:\n",
    "\n",
    "        super().__init__(sname, locals())\n",
    "\n",
    "        self.train_labels = Button(\n",
    "            description=Path(self.training_repo.value).name\n",
    "        )\n",
    "        self.test_labels = Button(\n",
    "            description=Path(self.testing_repo.value).name\n",
    "        )\n",
    "\n",
    "        # self.testing_repo.observe(self.update_test_button, names=\"value\")\n",
    "        # self.training_repo.observe(self.update_train_button, names=\"value\")\n",
    "\n",
    "        self.train_labels.on_click(self.update_train_file_list)\n",
    "        self.test_labels.on_click(self.update_test_file_list)\n",
    "\n",
    "        \n",
    "        self.file_list.observe(self.display_img, names=\"value\")\n",
    "\n",
    "        self._img_explorer.children = [\n",
    "            HBox([HBox([self.train_labels, self.test_labels])]),\n",
    "            self.file_list,\n",
    "            self.output,\n",
    "        ]\n",
    "\n",
    "        #self.update_label_list(())\n"
   ]
  },
  {
   "cell_type": "code",
   "execution_count": 9,
   "metadata": {},
   "outputs": [],
   "source": [
    "!head -n 100 /data1/ocr/synthtext/imglist_ocr.txt > /data1/xolive/ocr_train.txt"
   ]
  },
  {
   "cell_type": "code",
   "execution_count": 11,
   "metadata": {},
   "outputs": [],
   "source": [
    "!tail -n 100 /data1/ocr/synthtext/imglist_ocr.txt > /data1/xolive/ocr_test.txt"
   ]
  },
  {
   "cell_type": "code",
   "execution_count": 12,
   "metadata": {},
   "outputs": [
    {
     "data": {
      "application/vnd.jupyter.widget-view+json": {
       "model_id": "a98fc294dc914512ac400115e6b0494e",
       "version_major": 2,
       "version_minor": 0
      },
      "text/plain": [
       "HBox(children=(VBox(children=(HTML(value='<h2>OCR task: synthtxt</h2>'), HBox(children=(Button(description='Ru…"
      ]
     },
     "metadata": {},
     "output_type": "display_data"
    }
   ],
   "source": [
    "o = OCR('synthtxt',\n",
    "    training_repo = '/data1/xolive/ocr_train.txt',\n",
    "    testing_repo='/data1/xolive/ocr_test.txt',\n",
    "    host='10.10.77.61',\n",
    "    port=8500,\n",
    "    model_repo=\"/data1/xolive/models/synthtxt\",\n",
    "        img_width=220,\n",
    "        img_height=80,\n",
    "        nclasses= 37,\n",
    "        template='crnn',\n",
    "        solver_type='AMSGRAD'\n",
    "   )\n",
    "o"
   ]
  },
  {
   "cell_type": "code",
   "execution_count": 35,
   "metadata": {},
   "outputs": [
    {
     "data": {
      "text/plain": [
       "'abcdefghijklmnopqrstuvwxyz0123456789,;.!?:’“/\\\\_@#$%^&*~`+-=<>()[]{}'"
      ]
     },
     "execution_count": 35,
     "metadata": {},
     "output_type": "execute_result"
    }
   ],
   "source": [
    "\"abcdefghijklmnopqrstuvwxyz0123456789,;.!?:’“/\\_@#$%^&*~`+-=<>()[]{}\""
   ]
  },
  {
   "cell_type": "code",
   "execution_count": 36,
   "metadata": {},
   "outputs": [
    {
     "data": {
      "text/plain": [
       "67"
      ]
     },
     "execution_count": 36,
     "metadata": {},
     "output_type": "execute_result"
    }
   ],
   "source": [
    "len(_)"
   ]
  },
  {
   "cell_type": "code",
   "execution_count": 5,
   "metadata": {},
   "outputs": [],
   "source": [
    "!head -n 100 /data1/ocr/synthtext/imglist_ocr.txt > /data1/xolive/ocr_test.txt"
   ]
  },
  {
   "cell_type": "code",
   "execution_count": null,
   "metadata": {},
   "outputs": [],
   "source": []
  }
 ],
 "metadata": {
  "kernelspec": {
   "display_name": "Python 3.5 (system)",
   "language": "python",
   "name": "python3.5"
  },
  "language_info": {
   "codemirror_mode": {
    "name": "ipython",
    "version": 3
   },
   "file_extension": ".py",
   "mimetype": "text/x-python",
   "name": "python",
   "nbconvert_exporter": "python",
   "pygments_lexer": "ipython3",
   "version": "3.5.2"
  }
 },
 "nbformat": 4,
 "nbformat_minor": 2
}
