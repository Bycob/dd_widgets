{
 "cells": [
  {
   "cell_type": "code",
   "execution_count": 2,
   "metadata": {},
   "outputs": [],
   "source": [
    "%run widgets.py"
   ]
  },
  {
   "cell_type": "code",
   "execution_count": 1,
   "metadata": {},
   "outputs": [
    {
     "ename": "NameError",
     "evalue": "name 'CSV' is not defined",
     "output_type": "error",
     "traceback": [
      "\u001b[0;31m---------------------------------------------------------------------------\u001b[0m",
      "\u001b[0;31mNameError\u001b[0m                                 Traceback (most recent call last)",
      "\u001b[0;32m<ipython-input-1-25658c9f27a6>\u001b[0m in \u001b[0;36m<module>\u001b[0;34m()\u001b[0m\n\u001b[1;32m      1\u001b[0m \u001b[0;31m# CSV training example\u001b[0m\u001b[0;34m\u001b[0m\u001b[0;34m\u001b[0m\u001b[0m\n\u001b[1;32m      2\u001b[0m \u001b[0;31m# See https://deepdetect.com/tutorials/csv-training/ for the full tutorial outside of the platform\u001b[0m\u001b[0;34m\u001b[0m\u001b[0;34m\u001b[0m\u001b[0m\n\u001b[0;32m----> 3\u001b[0;31m csv_train_job = CSV(\n\u001b[0m\u001b[1;32m      4\u001b[0m     \u001b[0;34m'forest'\u001b[0m\u001b[0;34m,\u001b[0m\u001b[0;34m\u001b[0m\u001b[0m\n\u001b[1;32m      5\u001b[0m     \u001b[0mhost\u001b[0m\u001b[0;34m=\u001b[0m\u001b[0;34m'10.10.77.61'\u001b[0m\u001b[0;34m,\u001b[0m\u001b[0;34m\u001b[0m\u001b[0m\n",
      "\u001b[0;31mNameError\u001b[0m: name 'CSV' is not defined"
     ]
    }
   ],
   "source": [
    "# CSV training example with MLP neural network\n",
    "# See https://deepdetect.com/tutorials/csv-training/ for the full tutorial outside of the platform\n",
    "csv_train_job = CSV(\n",
    "    'forest',\n",
    "    host='10.10.77.61',\n",
    "    port=8500,\n",
    "    training_repo=\"/opt/platform/examples/covert/train.csv\",\n",
    "    model_repo=\"/opt/platform/models/training/examples/covert\",\n",
    "    csv_label='Cover_Type',\n",
    "    csv_id='Id',\n",
    "    tsplit=0.2,\n",
    "    template='mlp',\n",
    "    layers='[150,150,150]',\n",
    "    activation=\"prelu\",\n",
    "    nclasses=7,\n",
    "    scale= True,\n",
    "    iterations=10000,\n",
    "    base_lr=0.001,\n",
    "    solver_type=\"AMSGRAD\"\n",
    ")\n",
    "csv_train_job"
   ]
  },
  {
   "cell_type": "code",
   "execution_count": 5,
   "metadata": {},
   "outputs": [
    {
     "data": {
      "application/vnd.jupyter.widget-view+json": {
       "model_id": "98498367732846eca55385d98c6915eb",
       "version_major": 2,
       "version_minor": 0
      },
      "text/plain": [
       "HBox(children=(VBox(children=(HTML(value='<h2>Text task: news20</h2>'), HBox(children=(Button(description='Run…"
      ]
     },
     "metadata": {},
     "output_type": "display_data"
    }
   ],
   "source": [
    "# Text training example with BoW (bag of words) with MLP neural network\n",
    "# See https://deepdetect.com/tutorials/txt-training/ for the full tutorial outside of the platform\n",
    "txt_mlp_train_job = Text(\n",
    "    'news20',\n",
    "    host='10.10.77.61',\n",
    "    port=8500,\n",
    "    training_repo='/opt/platform/examples/news20/news20/',\n",
    "    model_repo='/opt/platform/models/training/examples/news20',\n",
    "    nclasses=20,\n",
    "    shuffle=True,\n",
    "    min_count=10,\n",
    "    min_word_length=5,\n",
    "    count=False,\n",
    "    template='mlp',\n",
    "    layers='[200,200]',\n",
    "    activation='relu',\n",
    "    tsplit=0.2,\n",
    "    base_lr=0.001,\n",
    "    solver_type='AMSGRAD',\n",
    "    iterations=10000,\n",
    "    test_interval=500,\n",
    "    batch_size=128\n",
    ")\n",
    "txt_mlp_train_job"
   ]
  },
  {
   "cell_type": "code",
   "execution_count": null,
   "metadata": {},
   "outputs": [],
   "source": [
    "# Text training with convolutional neural network\n",
    "txt_convnet_train_job = Text(\n",
    "    'agnews',         \n",
    "    training_repo = '/data1/txt/agnews_data/',\n",
    "    testing_repo=None,\n",
    "    host='10.10.77.61',\n",
    "    port=8500,\n",
    "    model_repo=\"/data1/beniz/models/agnews\",\n",
    "    nclasses=4,\n",
    "    gpuid=1\n",
    ")\n",
    "txt_convnet_train_job"
   ]
  }
 ],
 "metadata": {
  "kernelspec": {
   "display_name": "Python 3",
   "language": "python",
   "name": "python3"
  },
  "language_info": {
   "codemirror_mode": {
    "name": "ipython",
    "version": 3
   },
   "file_extension": ".py",
   "mimetype": "text/x-python",
   "name": "python",
   "nbconvert_exporter": "python",
   "pygments_lexer": "ipython3",
   "version": "3.6.4"
  }
 },
 "nbformat": 4,
 "nbformat_minor": 2
}
