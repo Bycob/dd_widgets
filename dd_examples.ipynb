{
 "cells": [
  {
   "cell_type": "code",
   "execution_count": 1,
   "metadata": {},
   "outputs": [],
   "source": [
    "%run widgets.py"
   ]
  },
  {
   "cell_type": "code",
   "execution_count": 1,
   "metadata": {},
   "outputs": [
    {
     "ename": "NameError",
     "evalue": "name 'CSV' is not defined",
     "output_type": "error",
     "traceback": [
      "\u001b[0;31m---------------------------------------------------------------------------\u001b[0m",
      "\u001b[0;31mNameError\u001b[0m                                 Traceback (most recent call last)",
      "\u001b[0;32m<ipython-input-1-25658c9f27a6>\u001b[0m in \u001b[0;36m<module>\u001b[0;34m()\u001b[0m\n\u001b[1;32m      1\u001b[0m \u001b[0;31m# CSV training example\u001b[0m\u001b[0;34m\u001b[0m\u001b[0;34m\u001b[0m\u001b[0m\n\u001b[1;32m      2\u001b[0m \u001b[0;31m# See https://deepdetect.com/tutorials/csv-training/ for the full tutorial outside of the platform\u001b[0m\u001b[0;34m\u001b[0m\u001b[0;34m\u001b[0m\u001b[0m\n\u001b[0;32m----> 3\u001b[0;31m csv_train_job = CSV(\n\u001b[0m\u001b[1;32m      4\u001b[0m     \u001b[0;34m'forest'\u001b[0m\u001b[0;34m,\u001b[0m\u001b[0;34m\u001b[0m\u001b[0m\n\u001b[1;32m      5\u001b[0m     \u001b[0mhost\u001b[0m\u001b[0;34m=\u001b[0m\u001b[0;34m'10.10.77.61'\u001b[0m\u001b[0;34m,\u001b[0m\u001b[0;34m\u001b[0m\u001b[0m\n",
      "\u001b[0;31mNameError\u001b[0m: name 'CSV' is not defined"
     ]
    }
   ],
   "source": [
    "# CSV training example with MLP neural network\n",
    "# See https://deepdetect.com/tutorials/csv-training/ for the full tutorial outside of the platform\n",
    "csv_train_job = CSV(\n",
    "    'forest',\n",
    "    host='10.10.77.61',\n",
    "    port=8500,\n",
    "    training_repo=\"/opt/platform/examples/covert/train.csv\",\n",
    "    model_repo=\"/opt/platform/models/training/examples/covert\",\n",
    "    csv_label='Cover_Type',\n",
    "    csv_id='Id',\n",
    "    tsplit=0.2,\n",
    "    template='mlp',\n",
    "    layers='[150,150,150]',\n",
    "    activation=\"prelu\",\n",
    "    nclasses=7,\n",
    "    scale= True,\n",
    "    iterations=10000,\n",
    "    base_lr=0.001,\n",
    "    solver_type=\"AMSGRAD\"\n",
    ")\n",
    "csv_train_job"
   ]
  },
  {
   "cell_type": "code",
   "execution_count": 12,
   "metadata": {},
   "outputs": [
    {
     "data": {
      "application/vnd.jupyter.widget-view+json": {
       "model_id": "dc89d0af6bf64d869844a65003a50813",
       "version_major": 2,
       "version_minor": 0
      },
      "text/plain": [
       "HBox(children=(VBox(children=(HTML(value='<h2>Text task: news20</h2>'), HBox(children=(Button(description='Run…"
      ]
     },
     "metadata": {},
     "output_type": "display_data"
    }
   ],
   "source": [
    "# Text training example with BoW (bag of words) with MLP neural network\n",
    "# See https://deepdetect.com/tutorials/txt-training/ for the full tutorial outside of the platform\n",
    "txt_mlp_train_job = Text(\n",
    "    'news20',\n",
    "    host='10.10.77.61',\n",
    "    port=8500,\n",
    "    training_repo='/opt/platform/examples/news20/news20/',\n",
    "    model_repo='/opt/platform/models/training/examples/news20',\n",
    "    nclasses=20,\n",
    "    shuffle=True,\n",
    "    min_count=10,\n",
    "    min_word_length=5,\n",
    "    count=False,\n",
    "    template='mlp',\n",
    "    layers='[200,200]',\n",
    "    activation='relu',\n",
    "    tsplit=0.2,\n",
    "    base_lr=0.001,\n",
    "    solver_type='AMSGRAD',\n",
    "    iterations=10000,\n",
    "    test_interval=500,\n",
    "    batch_size=128\n",
    ")\n",
    "txt_mlp_train_job"
   ]
  },
  {
   "cell_type": "code",
   "execution_count": 13,
   "metadata": {},
   "outputs": [
    {
     "data": {
      "application/vnd.jupyter.widget-view+json": {
       "model_id": "9543b35fd5574ea1a9e8151d5a6b82e8",
       "version_major": 2,
       "version_minor": 0
      },
      "text/plain": [
       "HBox(children=(VBox(children=(HTML(value='<h2>Text task: news20</h2>'), HBox(children=(Button(description='Run…"
      ]
     },
     "metadata": {},
     "output_type": "display_data"
    }
   ],
   "source": [
    "# Text training with convolutional neural network\n",
    "txt_convnet_train_job = Text(\n",
    "    'news20',         \n",
    "    training_repo = '/opt/platform/examples/news20/news20/',\n",
    "    testing_repo=None,\n",
    "    host='10.10.77.61',\n",
    "    port=8500,\n",
    "    model_repo=\"/opt/platform/models/training/examples/news20_convnet/\",\n",
    "    db=True,\n",
    "    nclasses=20,\n",
    "    characters=True,\n",
    "    read_forward=False,\n",
    "    sequence=512,\n",
    "    embedding=True,\n",
    "    template=\"vdcnn_9\",\n",
    "    iterations=25000,\n",
    "    test_interval=\"1000\",\n",
    "    batch_size=128,\n",
    "    base_lr=0.0001,\n",
    "    solver_type=\"AMSGRAD\",\n",
    "    tsplit=0.2,\n",
    "    shuffle=True,\n",
    "    target_repository='/opt/platform/models/private/news20_convnet'\n",
    ")\n",
    "txt_convnet_train_job"
   ]
  },
  {
   "cell_type": "code",
   "execution_count": 2,
   "metadata": {},
   "outputs": [
    {
     "data": {
      "application/vnd.jupyter.widget-view+json": {
       "model_id": "f883b60489e14ccc86b467acab4fedab",
       "version_major": 2,
       "version_minor": 0
      },
      "text/plain": [
       "HBox(children=(VBox(children=(HTML(value='<h2>Detection task: cars</h2>'), HBox(children=(Button(description='…"
      ]
     },
     "metadata": {},
     "output_type": "display_data"
    }
   ],
   "source": [
    "img_obj_detect = Detection(\n",
    "    \"cars\",\n",
    "    training_repo= \"/opt/platform/examples/cars/train.txt\",\n",
    "    testing_repo= \"/opt/platform/examples/cars/test.txt\",\n",
    "    host='10.10.77.61',\n",
    "    port=8500,\n",
    "    model_repo='/opt/platform/models/training/examples/cars/',\n",
    "    img_width=300,\n",
    "    img_height=300,\n",
    "    db_width=512,\n",
    "    db_height=512,\n",
    "    snapshot_interval=500,\n",
    "    test_interval=500,\n",
    "    iterations=25000,\n",
    "    template=\"ssd_300\",\n",
    "    mirror=True,\n",
    "    rotate=False,\n",
    "    finetune=True,\n",
    "    weights=\"/opt/platform/models/pretrained/ssd_300/VGG_ILSVRC_16_layers_fc_reduced.caffemodel\",\n",
    "    batch_size=24,\n",
    "    test_batch_size=4,\n",
    "    nclasses=2,\n",
    "    base_lr=0.0001,\n",
    "    solver_type=\"RMSPROP\"\n",
    ")\n",
    "img_obj_detect"
   ]
  },
  {
   "cell_type": "code",
   "execution_count": 33,
   "metadata": {},
   "outputs": [
    {
     "data": {
      "application/vnd.jupyter.widget-view+json": {
       "model_id": "268e93a17fe548eb988f362598208458",
       "version_major": 2,
       "version_minor": 0
      },
      "text/plain": [
       "HBox(children=(VBox(children=(HTML(value='<h2>Classification task: dogs_cats</h2>'), HBox(children=(Button(des…"
      ]
     },
     "metadata": {},
     "output_type": "display_data"
    }
   ],
   "source": [
    "img_classif = Classification(\n",
    "    'dogs_cats', \n",
    "    training_repo='/opt/platform/examples/dogs_cats/train/',\n",
    "    tsplit=.2,\n",
    "    host='10.10.77.61',\n",
    "    port=8500,\n",
    "    model_repo='/opt/platform/models/training/examples/dogs_cats',\n",
    "    template='se_resnet_50',\n",
    "    img_width=224,\n",
    "    img_height=224,\n",
    "    mirror=True,\n",
    "    rotate=False,\n",
    "    base_lr=0.001,\n",
    "    solver_type=\"AMSGRAD\",\n",
    "    finetune=True,\n",
    "    weights='/opt/platform/models/pretrained/se_resnet_50/SE-ResNet-50.caffemodel',\n",
    "    iterations=10000,\n",
    "    test_interval=500,\n",
    "    snapshot_interval=5000,\n",
    "    batch_size=16,\n",
    "    iter_size=2,\n",
    "    test_batch_size=4,\n",
    "    noise_prob=0.001,\n",
    "    distort_prob=0.001\n",
    ")\n",
    "img_classif"
   ]
  }
 ],
 "metadata": {
  "kernelspec": {
   "display_name": "Python 3",
   "language": "python",
   "name": "python3"
  },
  "language_info": {
   "codemirror_mode": {
    "name": "ipython",
    "version": 3
   },
   "file_extension": ".py",
   "mimetype": "text/x-python",
   "name": "python",
   "nbconvert_exporter": "python",
   "pygments_lexer": "ipython3",
   "version": "3.6.4"
  }
 },
 "nbformat": 4,
 "nbformat_minor": 2
}
